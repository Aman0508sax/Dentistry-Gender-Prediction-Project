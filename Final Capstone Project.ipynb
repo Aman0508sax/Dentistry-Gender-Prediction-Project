{
 "cells": [
  {
   "cell_type": "markdown",
   "metadata": {
    "id": "cz-uxNYInho6"
   },
   "source": [
    "# **USING DENTAL METRICS TO PREDICT GENDER**"
   ]
  },
  {
   "cell_type": "markdown",
   "metadata": {
    "id": "lx0LYLUe67Tr"
   },
   "source": [
    "Project aims to analyze dental data to predict an individual's gender based on specific dental features. It helps to integrates the fields of dentistry, data science, and machine learning to explore the correlations between dental characteristics and gender, ultimately developing a predictive model.\n"
   ]
  },
  {
   "cell_type": "markdown",
   "metadata": {
    "id": "o12bphTC6_0j"
   },
   "source": [
    "#### Introduction and Background\n",
    "\n",
    "Dental anthropology has long studied the relationship between dental features and various demographic factors, including gender. Previous research indicates that certain dental characteristics, such as tooth size, shape, and wear patterns, exhibit sexually dimorphic traits. Leveraging these insights, this project seeks to apply modern data analysis and machine learning techniques to predict gender from dental features with high accuracy.\n"
   ]
  },
  {
   "cell_type": "markdown",
   "metadata": {
    "id": "Z06nENO47EeS"
   },
   "source": [
    "#### Data Collection and Preprocessing\n",
    "\n",
    "The initial phase of the project involves the collection of a comprehensive dataset containing dental records. These records include measurements of teeth dimensions, morphology, dental arch form, and other relevant features. The dataset also contains the gender of the individuals, serving as the target variable for the predictive model.\n",
    "\n",
    "Data preprocessing is a critical step to ensure the quality and reliability of the dataset. This process includes:\n",
    "\n",
    "1. **Data Cleaning**: Handling missing values, correcting inconsistencies, and removing any outliers that could skew the analysis.\n",
    "2. **Feature Engineering**: Creating new features from existing data to enhance the model's predictive power. For example, calculating ratios or differences between certain measurements.\n",
    "3. **Normalization and Scaling**: Standardizing the data to ensure that features with different scales do not disproportionately influence the model.\n"
   ]
  },
  {
   "cell_type": "markdown",
   "metadata": {
    "id": "IhiGhS7-7Lbd"
   },
   "source": [
    "#### Exploratory Data Analysis (EDA)\n",
    "\n",
    "EDA involves a thorough examination of the dataset to uncover patterns, trends, and relationships between dental features and gender. Visualizations such as histograms, scatter plots, and box plots help in understanding the distribution of features and identifying any significant differences between genders. Statistical tests are also conducted to quantify these differences.\n"
   ]
  },
  {
   "cell_type": "markdown",
   "metadata": {
    "id": "zepwrwn-7uFX"
   },
   "source": [
    "#### Model Development\n",
    "\n",
    "The core of the project is the development of a machine learning model to predict gender based on dental features. Several algorithms are considered, including:\n",
    "\n",
    "**Logistic Regression**,**Decision Trees**,**Random Forests**,**XG Boost Classifier**\n",
    "\n",
    "The dataset is split into training and testing sets to evaluate the models' performance. Cross-validation is employed to ensure that the model generalizes well to unseen data.\n"
   ]
  },
  {
   "cell_type": "markdown",
   "metadata": {
    "id": "68nohme17vjH"
   },
   "source": [
    "#### Model Evaluation and Interpretation\n",
    "\n",
    "The performance of the predictive models is assessed using accuracy metrics. Confusion matrices provide additional insights into the models' ability to distinguish between genders.\n",
    "\n"
   ]
  },
  {
   "cell_type": "code",
   "execution_count": 1,
   "metadata": {
    "id": "HfFncNnWmXXQ"
   },
   "outputs": [],
   "source": [
    "import pandas as pd\n",
    "import numpy as np\n",
    "import matplotlib.pyplot as plt\n",
    "import seaborn as sns\n",
    "import sklearn as sk"
   ]
  },
  {
   "cell_type": "code",
   "execution_count": 2,
   "metadata": {
    "id": "JjTL5xCkoDoq"
   },
   "outputs": [],
   "source": [
    "from sklearn.model_selection import train_test_split, GridSearchCV\n",
    "from sklearn.ensemble import VotingClassifier, RandomForestClassifier"
   ]
  },
  {
   "cell_type": "code",
   "execution_count": 3,
   "metadata": {
    "id": "_0SK7UhfoXqA"
   },
   "outputs": [],
   "source": [
    "from sklearn.preprocessing import minmax_scale\n",
    "from sklearn.metrics import confusion_matrix"
   ]
  },
  {
   "cell_type": "code",
   "execution_count": 4,
   "metadata": {
    "id": "FEyEKrwhomNJ"
   },
   "outputs": [],
   "source": [
    "data = pd.read_csv('Dentistry Dataset.csv.xls')"
   ]
  },
  {
   "cell_type": "code",
   "execution_count": 5,
   "metadata": {
    "colab": {
     "base_uri": "https://localhost:8080/",
     "height": 746
    },
    "id": "Yv9hdLWno41I",
    "outputId": "570057f9-1cdb-4c2e-cf37-b80fe9624798"
   },
   "outputs": [
    {
     "data": {
      "text/html": [
       "<div>\n",
       "<style scoped>\n",
       "    .dataframe tbody tr th:only-of-type {\n",
       "        vertical-align: middle;\n",
       "    }\n",
       "\n",
       "    .dataframe tbody tr th {\n",
       "        vertical-align: top;\n",
       "    }\n",
       "\n",
       "    .dataframe thead th {\n",
       "        text-align: right;\n",
       "    }\n",
       "</style>\n",
       "<table border=\"1\" class=\"dataframe\">\n",
       "  <thead>\n",
       "    <tr style=\"text-align: right;\">\n",
       "      <th></th>\n",
       "      <th>Sl No</th>\n",
       "      <th>Sample ID</th>\n",
       "      <th>Age</th>\n",
       "      <th>Gender</th>\n",
       "      <th>inter canine distance intraoral</th>\n",
       "      <th>intercanine distance casts</th>\n",
       "      <th>right canine width intraoral</th>\n",
       "      <th>right canine width casts</th>\n",
       "      <th>left canine width intraoral</th>\n",
       "      <th>left canine width casts</th>\n",
       "      <th>right canine index intra oral</th>\n",
       "      <th>right canine index casts</th>\n",
       "      <th>left canine index intraoral</th>\n",
       "      <th>left canine index casts</th>\n",
       "    </tr>\n",
       "  </thead>\n",
       "  <tbody>\n",
       "    <tr>\n",
       "      <th>0</th>\n",
       "      <td>1</td>\n",
       "      <td>NaN</td>\n",
       "      <td>24</td>\n",
       "      <td>Female</td>\n",
       "      <td>25.06</td>\n",
       "      <td>25.05</td>\n",
       "      <td>6.08</td>\n",
       "      <td>6.08</td>\n",
       "      <td>6.09</td>\n",
       "      <td>6.10</td>\n",
       "      <td>0.242</td>\n",
       "      <td>0.242</td>\n",
       "      <td>0.242</td>\n",
       "      <td>0.241</td>\n",
       "    </tr>\n",
       "    <tr>\n",
       "      <th>1</th>\n",
       "      <td>2</td>\n",
       "      <td>NaN</td>\n",
       "      <td>22</td>\n",
       "      <td>Female</td>\n",
       "      <td>25.78</td>\n",
       "      <td>25.79</td>\n",
       "      <td>6.13</td>\n",
       "      <td>6.13</td>\n",
       "      <td>6.33</td>\n",
       "      <td>6.33</td>\n",
       "      <td>0.237</td>\n",
       "      <td>0.237</td>\n",
       "      <td>0.247</td>\n",
       "      <td>0.247</td>\n",
       "    </tr>\n",
       "    <tr>\n",
       "      <th>2</th>\n",
       "      <td>3</td>\n",
       "      <td>NaN</td>\n",
       "      <td>23</td>\n",
       "      <td>Female</td>\n",
       "      <td>23.83</td>\n",
       "      <td>23.83</td>\n",
       "      <td>5.91</td>\n",
       "      <td>5.96</td>\n",
       "      <td>6.28</td>\n",
       "      <td>6.28</td>\n",
       "      <td>0.248</td>\n",
       "      <td>0.248</td>\n",
       "      <td>0.264</td>\n",
       "      <td>0.264</td>\n",
       "    </tr>\n",
       "    <tr>\n",
       "      <th>3</th>\n",
       "      <td>4</td>\n",
       "      <td>NaN</td>\n",
       "      <td>20</td>\n",
       "      <td>Female</td>\n",
       "      <td>26.12</td>\n",
       "      <td>26.12</td>\n",
       "      <td>6.08</td>\n",
       "      <td>6.08</td>\n",
       "      <td>6.56</td>\n",
       "      <td>6.56</td>\n",
       "      <td>0.232</td>\n",
       "      <td>0.232</td>\n",
       "      <td>0.250</td>\n",
       "      <td>0.250</td>\n",
       "    </tr>\n",
       "    <tr>\n",
       "      <th>4</th>\n",
       "      <td>5</td>\n",
       "      <td>NaN</td>\n",
       "      <td>20</td>\n",
       "      <td>Female</td>\n",
       "      <td>26.36</td>\n",
       "      <td>26.41</td>\n",
       "      <td>6.09</td>\n",
       "      <td>6.09</td>\n",
       "      <td>6.50</td>\n",
       "      <td>6.50</td>\n",
       "      <td>0.231</td>\n",
       "      <td>0.231</td>\n",
       "      <td>0.246</td>\n",
       "      <td>0.246</td>\n",
       "    </tr>\n",
       "    <tr>\n",
       "      <th>5</th>\n",
       "      <td>6</td>\n",
       "      <td>NaN</td>\n",
       "      <td>25</td>\n",
       "      <td>Female</td>\n",
       "      <td>24.40</td>\n",
       "      <td>24.42</td>\n",
       "      <td>6.20</td>\n",
       "      <td>6.20</td>\n",
       "      <td>6.23</td>\n",
       "      <td>6.23</td>\n",
       "      <td>0.254</td>\n",
       "      <td>0.254</td>\n",
       "      <td>0.255</td>\n",
       "      <td>0.255</td>\n",
       "    </tr>\n",
       "    <tr>\n",
       "      <th>6</th>\n",
       "      <td>7</td>\n",
       "      <td>NaN</td>\n",
       "      <td>21</td>\n",
       "      <td>Female</td>\n",
       "      <td>28.10</td>\n",
       "      <td>28.12</td>\n",
       "      <td>6.48</td>\n",
       "      <td>6.48</td>\n",
       "      <td>6.84</td>\n",
       "      <td>6.84</td>\n",
       "      <td>0.230</td>\n",
       "      <td>0.230</td>\n",
       "      <td>0.243</td>\n",
       "      <td>0.243</td>\n",
       "    </tr>\n",
       "    <tr>\n",
       "      <th>7</th>\n",
       "      <td>8</td>\n",
       "      <td>NaN</td>\n",
       "      <td>18</td>\n",
       "      <td>Female</td>\n",
       "      <td>24.24</td>\n",
       "      <td>24.23</td>\n",
       "      <td>6.15</td>\n",
       "      <td>6.15</td>\n",
       "      <td>6.18</td>\n",
       "      <td>6.15</td>\n",
       "      <td>0.253</td>\n",
       "      <td>0.252</td>\n",
       "      <td>0.254</td>\n",
       "      <td>0.253</td>\n",
       "    </tr>\n",
       "    <tr>\n",
       "      <th>8</th>\n",
       "      <td>9</td>\n",
       "      <td>NaN</td>\n",
       "      <td>18</td>\n",
       "      <td>Female</td>\n",
       "      <td>25.95</td>\n",
       "      <td>25.95</td>\n",
       "      <td>6.74</td>\n",
       "      <td>6.78</td>\n",
       "      <td>6.74</td>\n",
       "      <td>6.74</td>\n",
       "      <td>0.259</td>\n",
       "      <td>0.261</td>\n",
       "      <td>0.259</td>\n",
       "      <td>0.259</td>\n",
       "    </tr>\n",
       "    <tr>\n",
       "      <th>9</th>\n",
       "      <td>10</td>\n",
       "      <td>NaN</td>\n",
       "      <td>25</td>\n",
       "      <td>Female</td>\n",
       "      <td>23.81</td>\n",
       "      <td>23.81</td>\n",
       "      <td>6.24</td>\n",
       "      <td>6.24</td>\n",
       "      <td>6.26</td>\n",
       "      <td>6.25</td>\n",
       "      <td>0.262</td>\n",
       "      <td>0.262</td>\n",
       "      <td>0.262</td>\n",
       "      <td>0.262</td>\n",
       "    </tr>\n",
       "    <tr>\n",
       "      <th>10</th>\n",
       "      <td>11</td>\n",
       "      <td>NaN</td>\n",
       "      <td>18</td>\n",
       "      <td>Female</td>\n",
       "      <td>24.13</td>\n",
       "      <td>24.18</td>\n",
       "      <td>6.41</td>\n",
       "      <td>6.41</td>\n",
       "      <td>6.43</td>\n",
       "      <td>6.43</td>\n",
       "      <td>0.265</td>\n",
       "      <td>0.265</td>\n",
       "      <td>0.265</td>\n",
       "      <td>0.265</td>\n",
       "    </tr>\n",
       "    <tr>\n",
       "      <th>11</th>\n",
       "      <td>12</td>\n",
       "      <td>NaN</td>\n",
       "      <td>18</td>\n",
       "      <td>Female</td>\n",
       "      <td>25.08</td>\n",
       "      <td>25.10</td>\n",
       "      <td>5.84</td>\n",
       "      <td>5.83</td>\n",
       "      <td>6.08</td>\n",
       "      <td>6.08</td>\n",
       "      <td>0.232</td>\n",
       "      <td>0.232</td>\n",
       "      <td>0.242</td>\n",
       "      <td>0.242</td>\n",
       "    </tr>\n",
       "    <tr>\n",
       "      <th>12</th>\n",
       "      <td>13</td>\n",
       "      <td>NaN</td>\n",
       "      <td>21</td>\n",
       "      <td>Female</td>\n",
       "      <td>24.46</td>\n",
       "      <td>24.46</td>\n",
       "      <td>6.45</td>\n",
       "      <td>6.47</td>\n",
       "      <td>6.49</td>\n",
       "      <td>6.47</td>\n",
       "      <td>0.263</td>\n",
       "      <td>0.264</td>\n",
       "      <td>0.265</td>\n",
       "      <td>0.264</td>\n",
       "    </tr>\n",
       "    <tr>\n",
       "      <th>13</th>\n",
       "      <td>14</td>\n",
       "      <td>NaN</td>\n",
       "      <td>18</td>\n",
       "      <td>Female</td>\n",
       "      <td>23.89</td>\n",
       "      <td>23.89</td>\n",
       "      <td>6.71</td>\n",
       "      <td>6.71</td>\n",
       "      <td>6.71</td>\n",
       "      <td>6.71</td>\n",
       "      <td>0.280</td>\n",
       "      <td>0.280</td>\n",
       "      <td>0.280</td>\n",
       "      <td>0.280</td>\n",
       "    </tr>\n",
       "    <tr>\n",
       "      <th>14</th>\n",
       "      <td>15</td>\n",
       "      <td>NaN</td>\n",
       "      <td>20</td>\n",
       "      <td>Female</td>\n",
       "      <td>23.50</td>\n",
       "      <td>23.50</td>\n",
       "      <td>5.86</td>\n",
       "      <td>5.86</td>\n",
       "      <td>5.85</td>\n",
       "      <td>5.85</td>\n",
       "      <td>0.246</td>\n",
       "      <td>0.246</td>\n",
       "      <td>0.246</td>\n",
       "      <td>0.246</td>\n",
       "    </tr>\n",
       "    <tr>\n",
       "      <th>15</th>\n",
       "      <td>16</td>\n",
       "      <td>NaN</td>\n",
       "      <td>20</td>\n",
       "      <td>Female</td>\n",
       "      <td>26.58</td>\n",
       "      <td>26.58</td>\n",
       "      <td>6.71</td>\n",
       "      <td>6.71</td>\n",
       "      <td>6.73</td>\n",
       "      <td>6.73</td>\n",
       "      <td>0.252</td>\n",
       "      <td>0.252</td>\n",
       "      <td>0.253</td>\n",
       "      <td>0.253</td>\n",
       "    </tr>\n",
       "    <tr>\n",
       "      <th>16</th>\n",
       "      <td>17</td>\n",
       "      <td>NaN</td>\n",
       "      <td>23</td>\n",
       "      <td>Female</td>\n",
       "      <td>28.27</td>\n",
       "      <td>28.28</td>\n",
       "      <td>7.14</td>\n",
       "      <td>7.14</td>\n",
       "      <td>7.15</td>\n",
       "      <td>7.14</td>\n",
       "      <td>0.252</td>\n",
       "      <td>0.252</td>\n",
       "      <td>0.251</td>\n",
       "      <td>0.252</td>\n",
       "    </tr>\n",
       "    <tr>\n",
       "      <th>17</th>\n",
       "      <td>18</td>\n",
       "      <td>NaN</td>\n",
       "      <td>22</td>\n",
       "      <td>Female</td>\n",
       "      <td>25.73</td>\n",
       "      <td>25.73</td>\n",
       "      <td>6.19</td>\n",
       "      <td>6.19</td>\n",
       "      <td>6.48</td>\n",
       "      <td>6.48</td>\n",
       "      <td>0.240</td>\n",
       "      <td>0.240</td>\n",
       "      <td>0.251</td>\n",
       "      <td>0.251</td>\n",
       "    </tr>\n",
       "    <tr>\n",
       "      <th>18</th>\n",
       "      <td>19</td>\n",
       "      <td>NaN</td>\n",
       "      <td>25</td>\n",
       "      <td>Female</td>\n",
       "      <td>27.46</td>\n",
       "      <td>27.46</td>\n",
       "      <td>6.98</td>\n",
       "      <td>6.98</td>\n",
       "      <td>6.99</td>\n",
       "      <td>7.01</td>\n",
       "      <td>0.254</td>\n",
       "      <td>0.254</td>\n",
       "      <td>0.254</td>\n",
       "      <td>0.253</td>\n",
       "    </tr>\n",
       "    <tr>\n",
       "      <th>19</th>\n",
       "      <td>20</td>\n",
       "      <td>NaN</td>\n",
       "      <td>23</td>\n",
       "      <td>Female</td>\n",
       "      <td>26.53</td>\n",
       "      <td>26.53</td>\n",
       "      <td>6.16</td>\n",
       "      <td>6.18</td>\n",
       "      <td>6.18</td>\n",
       "      <td>6.18</td>\n",
       "      <td>0.232</td>\n",
       "      <td>0.232</td>\n",
       "      <td>0.232</td>\n",
       "      <td>0.232</td>\n",
       "    </tr>\n",
       "  </tbody>\n",
       "</table>\n",
       "</div>"
      ],
      "text/plain": [
       "    Sl No  Sample ID  Age  Gender  inter canine distance intraoral  \\\n",
       "0       1        NaN   24  Female                            25.06   \n",
       "1       2        NaN   22  Female                            25.78   \n",
       "2       3        NaN   23  Female                            23.83   \n",
       "3       4        NaN   20  Female                            26.12   \n",
       "4       5        NaN   20  Female                            26.36   \n",
       "5       6        NaN   25  Female                            24.40   \n",
       "6       7        NaN   21  Female                            28.10   \n",
       "7       8        NaN   18  Female                            24.24   \n",
       "8       9        NaN   18  Female                            25.95   \n",
       "9      10        NaN   25  Female                            23.81   \n",
       "10     11        NaN   18  Female                            24.13   \n",
       "11     12        NaN   18  Female                            25.08   \n",
       "12     13        NaN   21  Female                            24.46   \n",
       "13     14        NaN   18  Female                            23.89   \n",
       "14     15        NaN   20  Female                            23.50   \n",
       "15     16        NaN   20  Female                            26.58   \n",
       "16     17        NaN   23  Female                            28.27   \n",
       "17     18        NaN   22  Female                            25.73   \n",
       "18     19        NaN   25  Female                            27.46   \n",
       "19     20        NaN   23  Female                            26.53   \n",
       "\n",
       "    intercanine distance casts  right canine width intraoral  \\\n",
       "0                        25.05                          6.08   \n",
       "1                        25.79                          6.13   \n",
       "2                        23.83                          5.91   \n",
       "3                        26.12                          6.08   \n",
       "4                        26.41                          6.09   \n",
       "5                        24.42                          6.20   \n",
       "6                        28.12                          6.48   \n",
       "7                        24.23                          6.15   \n",
       "8                        25.95                          6.74   \n",
       "9                        23.81                          6.24   \n",
       "10                       24.18                          6.41   \n",
       "11                       25.10                          5.84   \n",
       "12                       24.46                          6.45   \n",
       "13                       23.89                          6.71   \n",
       "14                       23.50                          5.86   \n",
       "15                       26.58                          6.71   \n",
       "16                       28.28                          7.14   \n",
       "17                       25.73                          6.19   \n",
       "18                       27.46                          6.98   \n",
       "19                       26.53                          6.16   \n",
       "\n",
       "    right canine width casts  left canine width intraoral  \\\n",
       "0                       6.08                         6.09   \n",
       "1                       6.13                         6.33   \n",
       "2                       5.96                         6.28   \n",
       "3                       6.08                         6.56   \n",
       "4                       6.09                         6.50   \n",
       "5                       6.20                         6.23   \n",
       "6                       6.48                         6.84   \n",
       "7                       6.15                         6.18   \n",
       "8                       6.78                         6.74   \n",
       "9                       6.24                         6.26   \n",
       "10                      6.41                         6.43   \n",
       "11                      5.83                         6.08   \n",
       "12                      6.47                         6.49   \n",
       "13                      6.71                         6.71   \n",
       "14                      5.86                         5.85   \n",
       "15                      6.71                         6.73   \n",
       "16                      7.14                         7.15   \n",
       "17                      6.19                         6.48   \n",
       "18                      6.98                         6.99   \n",
       "19                      6.18                         6.18   \n",
       "\n",
       "    left canine width casts  right canine index intra oral  \\\n",
       "0                      6.10                          0.242   \n",
       "1                      6.33                          0.237   \n",
       "2                      6.28                          0.248   \n",
       "3                      6.56                          0.232   \n",
       "4                      6.50                          0.231   \n",
       "5                      6.23                          0.254   \n",
       "6                      6.84                          0.230   \n",
       "7                      6.15                          0.253   \n",
       "8                      6.74                          0.259   \n",
       "9                      6.25                          0.262   \n",
       "10                     6.43                          0.265   \n",
       "11                     6.08                          0.232   \n",
       "12                     6.47                          0.263   \n",
       "13                     6.71                          0.280   \n",
       "14                     5.85                          0.246   \n",
       "15                     6.73                          0.252   \n",
       "16                     7.14                          0.252   \n",
       "17                     6.48                          0.240   \n",
       "18                     7.01                          0.254   \n",
       "19                     6.18                          0.232   \n",
       "\n",
       "    right canine index casts  left canine index intraoral  \\\n",
       "0                      0.242                        0.242   \n",
       "1                      0.237                        0.247   \n",
       "2                      0.248                        0.264   \n",
       "3                      0.232                        0.250   \n",
       "4                      0.231                        0.246   \n",
       "5                      0.254                        0.255   \n",
       "6                      0.230                        0.243   \n",
       "7                      0.252                        0.254   \n",
       "8                      0.261                        0.259   \n",
       "9                      0.262                        0.262   \n",
       "10                     0.265                        0.265   \n",
       "11                     0.232                        0.242   \n",
       "12                     0.264                        0.265   \n",
       "13                     0.280                        0.280   \n",
       "14                     0.246                        0.246   \n",
       "15                     0.252                        0.253   \n",
       "16                     0.252                        0.251   \n",
       "17                     0.240                        0.251   \n",
       "18                     0.254                        0.254   \n",
       "19                     0.232                        0.232   \n",
       "\n",
       "    left canine index casts  \n",
       "0                     0.241  \n",
       "1                     0.247  \n",
       "2                     0.264  \n",
       "3                     0.250  \n",
       "4                     0.246  \n",
       "5                     0.255  \n",
       "6                     0.243  \n",
       "7                     0.253  \n",
       "8                     0.259  \n",
       "9                     0.262  \n",
       "10                    0.265  \n",
       "11                    0.242  \n",
       "12                    0.264  \n",
       "13                    0.280  \n",
       "14                    0.246  \n",
       "15                    0.253  \n",
       "16                    0.252  \n",
       "17                    0.251  \n",
       "18                    0.253  \n",
       "19                    0.232  "
      ]
     },
     "execution_count": 5,
     "metadata": {},
     "output_type": "execute_result"
    }
   ],
   "source": [
    "data.head(20)"
   ]
  },
  {
   "cell_type": "code",
   "execution_count": 6,
   "metadata": {
    "colab": {
     "base_uri": "https://localhost:8080/"
    },
    "id": "dGyyZnVAo_UO",
    "outputId": "645fce8a-62f9-4dd0-8175-17a615417d29"
   },
   "outputs": [
    {
     "data": {
      "text/plain": [
       "Sl No                                 0\n",
       "Sample ID                          1100\n",
       "Age                                   0\n",
       "Gender                                0\n",
       "inter canine distance intraoral       0\n",
       "intercanine distance casts            0\n",
       "right canine width intraoral          0\n",
       "right canine width casts              0\n",
       "left canine width intraoral           0\n",
       "left canine width casts               0\n",
       "right canine index intra oral         0\n",
       "right canine index casts              0\n",
       "left canine index intraoral           0\n",
       "left canine index casts               0\n",
       "dtype: int64"
      ]
     },
     "execution_count": 6,
     "metadata": {},
     "output_type": "execute_result"
    }
   ],
   "source": [
    "#Data Preprocessing\n",
    "#checking null values\n",
    "data.isnull().sum()"
   ]
  },
  {
   "cell_type": "code",
   "execution_count": 7,
   "metadata": {
    "colab": {
     "base_uri": "https://localhost:8080/",
     "height": 372
    },
    "id": "aglddPKWo_Nv",
    "outputId": "836bd74d-2818-4fe3-8602-c0d11b64b340"
   },
   "outputs": [
    {
     "data": {
      "text/html": [
       "<div>\n",
       "<style scoped>\n",
       "    .dataframe tbody tr th:only-of-type {\n",
       "        vertical-align: middle;\n",
       "    }\n",
       "\n",
       "    .dataframe tbody tr th {\n",
       "        vertical-align: top;\n",
       "    }\n",
       "\n",
       "    .dataframe thead th {\n",
       "        text-align: right;\n",
       "    }\n",
       "</style>\n",
       "<table border=\"1\" class=\"dataframe\">\n",
       "  <thead>\n",
       "    <tr style=\"text-align: right;\">\n",
       "      <th></th>\n",
       "      <th>Sl No</th>\n",
       "      <th>Sample ID</th>\n",
       "      <th>Age</th>\n",
       "      <th>inter canine distance intraoral</th>\n",
       "      <th>intercanine distance casts</th>\n",
       "      <th>right canine width intraoral</th>\n",
       "      <th>right canine width casts</th>\n",
       "      <th>left canine width intraoral</th>\n",
       "      <th>left canine width casts</th>\n",
       "      <th>right canine index intra oral</th>\n",
       "      <th>right canine index casts</th>\n",
       "      <th>left canine index intraoral</th>\n",
       "      <th>left canine index casts</th>\n",
       "    </tr>\n",
       "  </thead>\n",
       "  <tbody>\n",
       "    <tr>\n",
       "      <th>count</th>\n",
       "      <td>1100.000000</td>\n",
       "      <td>0.0</td>\n",
       "      <td>1100.000000</td>\n",
       "      <td>1100.000000</td>\n",
       "      <td>1100.000000</td>\n",
       "      <td>1100.000000</td>\n",
       "      <td>1100.000000</td>\n",
       "      <td>1100.000000</td>\n",
       "      <td>1100.000000</td>\n",
       "      <td>1100.000000</td>\n",
       "      <td>1100.000000</td>\n",
       "      <td>1100.000000</td>\n",
       "      <td>1100.000000</td>\n",
       "    </tr>\n",
       "    <tr>\n",
       "      <th>mean</th>\n",
       "      <td>550.500000</td>\n",
       "      <td>NaN</td>\n",
       "      <td>21.625455</td>\n",
       "      <td>25.989009</td>\n",
       "      <td>25.880082</td>\n",
       "      <td>6.563000</td>\n",
       "      <td>6.564491</td>\n",
       "      <td>6.669627</td>\n",
       "      <td>6.675018</td>\n",
       "      <td>0.253122</td>\n",
       "      <td>0.252355</td>\n",
       "      <td>0.256453</td>\n",
       "      <td>0.256361</td>\n",
       "    </tr>\n",
       "    <tr>\n",
       "      <th>std</th>\n",
       "      <td>317.686953</td>\n",
       "      <td>NaN</td>\n",
       "      <td>2.085892</td>\n",
       "      <td>1.315292</td>\n",
       "      <td>1.862323</td>\n",
       "      <td>0.379035</td>\n",
       "      <td>0.377553</td>\n",
       "      <td>0.375841</td>\n",
       "      <td>0.377098</td>\n",
       "      <td>0.015344</td>\n",
       "      <td>0.012892</td>\n",
       "      <td>0.012355</td>\n",
       "      <td>0.012374</td>\n",
       "    </tr>\n",
       "    <tr>\n",
       "      <th>min</th>\n",
       "      <td>1.000000</td>\n",
       "      <td>NaN</td>\n",
       "      <td>18.000000</td>\n",
       "      <td>23.120000</td>\n",
       "      <td>6.540000</td>\n",
       "      <td>5.460000</td>\n",
       "      <td>5.460000</td>\n",
       "      <td>5.460000</td>\n",
       "      <td>5.460000</td>\n",
       "      <td>0.223000</td>\n",
       "      <td>0.223000</td>\n",
       "      <td>0.223000</td>\n",
       "      <td>0.223000</td>\n",
       "    </tr>\n",
       "    <tr>\n",
       "      <th>25%</th>\n",
       "      <td>275.750000</td>\n",
       "      <td>NaN</td>\n",
       "      <td>20.000000</td>\n",
       "      <td>25.000000</td>\n",
       "      <td>24.980000</td>\n",
       "      <td>6.290000</td>\n",
       "      <td>6.300000</td>\n",
       "      <td>6.400000</td>\n",
       "      <td>6.407500</td>\n",
       "      <td>0.242000</td>\n",
       "      <td>0.242000</td>\n",
       "      <td>0.247000</td>\n",
       "      <td>0.247000</td>\n",
       "    </tr>\n",
       "    <tr>\n",
       "      <th>50%</th>\n",
       "      <td>550.500000</td>\n",
       "      <td>NaN</td>\n",
       "      <td>22.000000</td>\n",
       "      <td>25.900000</td>\n",
       "      <td>25.900000</td>\n",
       "      <td>6.520000</td>\n",
       "      <td>6.520000</td>\n",
       "      <td>6.660000</td>\n",
       "      <td>6.680000</td>\n",
       "      <td>0.253000</td>\n",
       "      <td>0.253000</td>\n",
       "      <td>0.255000</td>\n",
       "      <td>0.255000</td>\n",
       "    </tr>\n",
       "    <tr>\n",
       "      <th>75%</th>\n",
       "      <td>825.250000</td>\n",
       "      <td>NaN</td>\n",
       "      <td>23.000000</td>\n",
       "      <td>26.992500</td>\n",
       "      <td>27.000000</td>\n",
       "      <td>6.802500</td>\n",
       "      <td>6.802500</td>\n",
       "      <td>6.910000</td>\n",
       "      <td>6.920000</td>\n",
       "      <td>0.262000</td>\n",
       "      <td>0.261250</td>\n",
       "      <td>0.264250</td>\n",
       "      <td>0.264000</td>\n",
       "    </tr>\n",
       "    <tr>\n",
       "      <th>max</th>\n",
       "      <td>1100.000000</td>\n",
       "      <td>NaN</td>\n",
       "      <td>25.000000</td>\n",
       "      <td>30.310000</td>\n",
       "      <td>30.310000</td>\n",
       "      <td>7.610000</td>\n",
       "      <td>7.600000</td>\n",
       "      <td>7.810000</td>\n",
       "      <td>7.810000</td>\n",
       "      <td>0.363000</td>\n",
       "      <td>0.302000</td>\n",
       "      <td>0.305000</td>\n",
       "      <td>0.304000</td>\n",
       "    </tr>\n",
       "  </tbody>\n",
       "</table>\n",
       "</div>"
      ],
      "text/plain": [
       "             Sl No  Sample ID          Age  inter canine distance intraoral  \\\n",
       "count  1100.000000        0.0  1100.000000                      1100.000000   \n",
       "mean    550.500000        NaN    21.625455                        25.989009   \n",
       "std     317.686953        NaN     2.085892                         1.315292   \n",
       "min       1.000000        NaN    18.000000                        23.120000   \n",
       "25%     275.750000        NaN    20.000000                        25.000000   \n",
       "50%     550.500000        NaN    22.000000                        25.900000   \n",
       "75%     825.250000        NaN    23.000000                        26.992500   \n",
       "max    1100.000000        NaN    25.000000                        30.310000   \n",
       "\n",
       "       intercanine distance casts  right canine width intraoral  \\\n",
       "count                 1100.000000                   1100.000000   \n",
       "mean                    25.880082                      6.563000   \n",
       "std                      1.862323                      0.379035   \n",
       "min                      6.540000                      5.460000   \n",
       "25%                     24.980000                      6.290000   \n",
       "50%                     25.900000                      6.520000   \n",
       "75%                     27.000000                      6.802500   \n",
       "max                     30.310000                      7.610000   \n",
       "\n",
       "       right canine width casts  left canine width intraoral  \\\n",
       "count               1100.000000                  1100.000000   \n",
       "mean                   6.564491                     6.669627   \n",
       "std                    0.377553                     0.375841   \n",
       "min                    5.460000                     5.460000   \n",
       "25%                    6.300000                     6.400000   \n",
       "50%                    6.520000                     6.660000   \n",
       "75%                    6.802500                     6.910000   \n",
       "max                    7.600000                     7.810000   \n",
       "\n",
       "       left canine width casts  right canine index intra oral  \\\n",
       "count              1100.000000                    1100.000000   \n",
       "mean                  6.675018                       0.253122   \n",
       "std                   0.377098                       0.015344   \n",
       "min                   5.460000                       0.223000   \n",
       "25%                   6.407500                       0.242000   \n",
       "50%                   6.680000                       0.253000   \n",
       "75%                   6.920000                       0.262000   \n",
       "max                   7.810000                       0.363000   \n",
       "\n",
       "       right canine index casts  left canine index intraoral  \\\n",
       "count               1100.000000                  1100.000000   \n",
       "mean                   0.252355                     0.256453   \n",
       "std                    0.012892                     0.012355   \n",
       "min                    0.223000                     0.223000   \n",
       "25%                    0.242000                     0.247000   \n",
       "50%                    0.253000                     0.255000   \n",
       "75%                    0.261250                     0.264250   \n",
       "max                    0.302000                     0.305000   \n",
       "\n",
       "       left canine index casts  \n",
       "count              1100.000000  \n",
       "mean                  0.256361  \n",
       "std                   0.012374  \n",
       "min                   0.223000  \n",
       "25%                   0.247000  \n",
       "50%                   0.255000  \n",
       "75%                   0.264000  \n",
       "max                   0.304000  "
      ]
     },
     "execution_count": 7,
     "metadata": {},
     "output_type": "execute_result"
    }
   ],
   "source": [
    "data.describe()"
   ]
  },
  {
   "cell_type": "code",
   "execution_count": 8,
   "metadata": {
    "colab": {
     "base_uri": "https://localhost:8080/",
     "height": 466
    },
    "id": "ph1VcBWZo_G6",
    "outputId": "0707a743-5e81-4f74-fd7c-eee58d039d78"
   },
   "outputs": [
    {
     "data": {
      "text/plain": [
       "<Axes: xlabel='inter canine distance intraoral', ylabel='intercanine distance casts'>"
      ]
     },
     "execution_count": 8,
     "metadata": {},
     "output_type": "execute_result"
    },
    {
     "data": {
      "image/png": "[encoded data removed]",
      "text/plain": [
       "<Figure size 640x480 with 1 Axes>"
      ]
     },
     "metadata": {},
     "output_type": "display_data"
    }
   ],
   "source": [
    "#visualizing intercanine distance data\n",
    "#sns.lineplot(data['inter canine distance intraoral'], data['intercanine distance casts'], hue=data[\"Gender\"])\n",
    "sns.lineplot(x='inter canine distance intraoral', y='intercanine distance casts', hue='Gender', data=data)"
   ]
  },
  {
   "cell_type": "code",
   "execution_count": 9,
   "metadata": {
    "colab": {
     "base_uri": "https://localhost:8080/",
     "height": 466
    },
    "id": "bYclxMun0ygM",
    "outputId": "94a37c74-51b3-4639-fab5-98eb141ba3d1"
   },
   "outputs": [
    {
     "data": {
      "text/plain": [
       "<Axes: xlabel='right canine width intraoral', ylabel='right canine width casts'>"
      ]
     },
     "execution_count": 9,
     "metadata": {},
     "output_type": "execute_result"
    },
    {
     "data": {
      "image/png": "[encoded data removed]",
      "text/plain": [
       "<Figure size 640x480 with 1 Axes>"
      ]
     },
     "metadata": {},
     "output_type": "display_data"
    }
   ],
   "source": [
    "sns.lineplot(x='right canine width intraoral', y='right canine width casts', hue='Gender', data=data)"
   ]
  },
  {
   "cell_type": "code",
   "execution_count": 10,
   "metadata": {
    "colab": {
     "base_uri": "https://localhost:8080/",
     "height": 466
    },
    "id": "5007bnMK0yU8",
    "outputId": "cf311137-2af2-421f-bedc-bfa128c4f368"
   },
   "outputs": [
    {
     "data": {
      "text/plain": [
       "<Axes: xlabel='left canine width intraoral', ylabel='left canine width casts'>"
      ]
     },
     "execution_count": 10,
     "metadata": {},
     "output_type": "execute_result"
    },
    {
     "data": {
      "image/png": "[encoded data removed]",
      "text/plain": [
       "<Figure size 640x480 with 1 Axes>"
      ]
     },
     "metadata": {},
     "output_type": "display_data"
    }
   ],
   "source": [
    "sns.lineplot(x='left canine width intraoral', y='left canine width casts', hue='Gender', data=data)"
   ]
  },
  {
   "cell_type": "code",
   "execution_count": 25,
   "metadata": {
    "colab": {
     "base_uri": "https://localhost:8080/",
     "height": 466
    },
    "id": "X8BOBHPd0yJe",
    "outputId": "23f3b0d4-9166-48b2-c4bb-68dd924e454b"
   },
   "outputs": [
    {
     "data": {
      "text/plain": [
       "<Axes: xlabel='right canine index intra oral', ylabel='right canine index casts'>"
      ]
     },
     "execution_count": 25,
     "metadata": {},
     "output_type": "execute_result"
    },
    {
     "data": {
      "image/png": "[encoded data removed]",
      "text/plain": [
       "<Figure size 640x480 with 1 Axes>"
      ]
     },
     "metadata": {},
     "output_type": "display_data"
    }
   ],
   "source": [
    "sns.lineplot(x='right canine index intra oral', y='right canine index casts', hue='Gender', data=data)"
   ]
  },
  {
   "cell_type": "code",
   "execution_count": 12,
   "metadata": {
    "colab": {
     "base_uri": "https://localhost:8080/",
     "height": 466
    },
    "id": "_ivoktwY0x8v",
    "outputId": "48e345b9-4873-4135-bfda-4f274e3305a7"
   },
   "outputs": [
    {
     "data": {
      "text/plain": [
       "<Axes: xlabel='left canine index intraoral', ylabel='left canine index casts'>"
      ]
     },
     "execution_count": 12,
     "metadata": {},
     "output_type": "execute_result"
    },
    {
     "data": {
      "image/png": "[encoded data removed]",
      "text/plain": [
       "<Figure size 640x480 with 1 Axes>"
      ]
     },
     "metadata": {},
     "output_type": "display_data"
    }
   ],
   "source": [
    "sns.lineplot(x='left canine index intraoral', y='left canine index casts', hue='Gender', data=data)"
   ]
  },
  {
   "cell_type": "code",
   "execution_count": 13,
   "metadata": {
    "id": "qyuitldIo-_n"
   },
   "outputs": [],
   "source": [
    "#encoding the data of Gender from categorical to numerical\n",
    "gender = {'Female':0, 'Male':1}\n",
    "data['Gender'] = data['Gender'].map(gender)"
   ]
  },
  {
   "cell_type": "code",
   "execution_count": 14,
   "metadata": {
    "colab": {
     "base_uri": "https://localhost:8080/",
     "height": 275
    },
    "id": "OfnXmrN6o-3j",
    "outputId": "d32b2bf3-e17f-4bbc-d85f-ec4c0eba5fa5"
   },
   "outputs": [
    {
     "data": {
      "text/html": [
       "<div>\n",
       "<style scoped>\n",
       "    .dataframe tbody tr th:only-of-type {\n",
       "        vertical-align: middle;\n",
       "    }\n",
       "\n",
       "    .dataframe tbody tr th {\n",
       "        vertical-align: top;\n",
       "    }\n",
       "\n",
       "    .dataframe thead th {\n",
       "        text-align: right;\n",
       "    }\n",
       "</style>\n",
       "<table border=\"1\" class=\"dataframe\">\n",
       "  <thead>\n",
       "    <tr style=\"text-align: right;\">\n",
       "      <th></th>\n",
       "      <th>Sl No</th>\n",
       "      <th>Sample ID</th>\n",
       "      <th>Age</th>\n",
       "      <th>Gender</th>\n",
       "      <th>inter canine distance intraoral</th>\n",
       "      <th>intercanine distance casts</th>\n",
       "      <th>right canine width intraoral</th>\n",
       "      <th>right canine width casts</th>\n",
       "      <th>left canine width intraoral</th>\n",
       "      <th>left canine width casts</th>\n",
       "      <th>right canine index intra oral</th>\n",
       "      <th>right canine index casts</th>\n",
       "      <th>left canine index intraoral</th>\n",
       "      <th>left canine index casts</th>\n",
       "    </tr>\n",
       "  </thead>\n",
       "  <tbody>\n",
       "    <tr>\n",
       "      <th>0</th>\n",
       "      <td>1</td>\n",
       "      <td>NaN</td>\n",
       "      <td>24</td>\n",
       "      <td>0</td>\n",
       "      <td>25.06</td>\n",
       "      <td>25.05</td>\n",
       "      <td>6.08</td>\n",
       "      <td>6.08</td>\n",
       "      <td>6.09</td>\n",
       "      <td>6.10</td>\n",
       "      <td>0.242</td>\n",
       "      <td>0.242</td>\n",
       "      <td>0.242</td>\n",
       "      <td>0.241</td>\n",
       "    </tr>\n",
       "    <tr>\n",
       "      <th>1</th>\n",
       "      <td>2</td>\n",
       "      <td>NaN</td>\n",
       "      <td>22</td>\n",
       "      <td>0</td>\n",
       "      <td>25.78</td>\n",
       "      <td>25.79</td>\n",
       "      <td>6.13</td>\n",
       "      <td>6.13</td>\n",
       "      <td>6.33</td>\n",
       "      <td>6.33</td>\n",
       "      <td>0.237</td>\n",
       "      <td>0.237</td>\n",
       "      <td>0.247</td>\n",
       "      <td>0.247</td>\n",
       "    </tr>\n",
       "    <tr>\n",
       "      <th>2</th>\n",
       "      <td>3</td>\n",
       "      <td>NaN</td>\n",
       "      <td>23</td>\n",
       "      <td>0</td>\n",
       "      <td>23.83</td>\n",
       "      <td>23.83</td>\n",
       "      <td>5.91</td>\n",
       "      <td>5.96</td>\n",
       "      <td>6.28</td>\n",
       "      <td>6.28</td>\n",
       "      <td>0.248</td>\n",
       "      <td>0.248</td>\n",
       "      <td>0.264</td>\n",
       "      <td>0.264</td>\n",
       "    </tr>\n",
       "    <tr>\n",
       "      <th>3</th>\n",
       "      <td>4</td>\n",
       "      <td>NaN</td>\n",
       "      <td>20</td>\n",
       "      <td>0</td>\n",
       "      <td>26.12</td>\n",
       "      <td>26.12</td>\n",
       "      <td>6.08</td>\n",
       "      <td>6.08</td>\n",
       "      <td>6.56</td>\n",
       "      <td>6.56</td>\n",
       "      <td>0.232</td>\n",
       "      <td>0.232</td>\n",
       "      <td>0.250</td>\n",
       "      <td>0.250</td>\n",
       "    </tr>\n",
       "    <tr>\n",
       "      <th>4</th>\n",
       "      <td>5</td>\n",
       "      <td>NaN</td>\n",
       "      <td>20</td>\n",
       "      <td>0</td>\n",
       "      <td>26.36</td>\n",
       "      <td>26.41</td>\n",
       "      <td>6.09</td>\n",
       "      <td>6.09</td>\n",
       "      <td>6.50</td>\n",
       "      <td>6.50</td>\n",
       "      <td>0.231</td>\n",
       "      <td>0.231</td>\n",
       "      <td>0.246</td>\n",
       "      <td>0.246</td>\n",
       "    </tr>\n",
       "  </tbody>\n",
       "</table>\n",
       "</div>"
      ],
      "text/plain": [
       "   Sl No  Sample ID  Age  Gender  inter canine distance intraoral  \\\n",
       "0      1        NaN   24       0                            25.06   \n",
       "1      2        NaN   22       0                            25.78   \n",
       "2      3        NaN   23       0                            23.83   \n",
       "3      4        NaN   20       0                            26.12   \n",
       "4      5        NaN   20       0                            26.36   \n",
       "\n",
       "   intercanine distance casts  right canine width intraoral  \\\n",
       "0                       25.05                          6.08   \n",
       "1                       25.79                          6.13   \n",
       "2                       23.83                          5.91   \n",
       "3                       26.12                          6.08   \n",
       "4                       26.41                          6.09   \n",
       "\n",
       "   right canine width casts  left canine width intraoral  \\\n",
       "0                      6.08                         6.09   \n",
       "1                      6.13                         6.33   \n",
       "2                      5.96                         6.28   \n",
       "3                      6.08                         6.56   \n",
       "4                      6.09                         6.50   \n",
       "\n",
       "   left canine width casts  right canine index intra oral  \\\n",
       "0                     6.10                          0.242   \n",
       "1                     6.33                          0.237   \n",
       "2                     6.28                          0.248   \n",
       "3                     6.56                          0.232   \n",
       "4                     6.50                          0.231   \n",
       "\n",
       "   right canine index casts  left canine index intraoral  \\\n",
       "0                     0.242                        0.242   \n",
       "1                     0.237                        0.247   \n",
       "2                     0.248                        0.264   \n",
       "3                     0.232                        0.250   \n",
       "4                     0.231                        0.246   \n",
       "\n",
       "   left canine index casts  \n",
       "0                    0.241  \n",
       "1                    0.247  \n",
       "2                    0.264  \n",
       "3                    0.250  \n",
       "4                    0.246  "
      ]
     },
     "execution_count": 14,
     "metadata": {},
     "output_type": "execute_result"
    }
   ],
   "source": [
    "data.head()"
   ]
  },
  {
   "cell_type": "code",
   "execution_count": 15,
   "metadata": {
    "id": "Zvk3Yeq-o-wg"
   },
   "outputs": [],
   "source": [
    "X = data.drop(['Gender','Sample ID'], axis=1)\n",
    "y = data['Gender']"
   ]
  },
  {
   "cell_type": "code",
   "execution_count": 16,
   "metadata": {
    "colab": {
     "base_uri": "https://localhost:8080/",
     "height": 493
    },
    "id": "TB18ZERto-o9",
    "outputId": "7639d0ca-ac26-435c-83d9-2f7aa870e52a"
   },
   "outputs": [
    {
     "data": {
      "text/html": [
       "<div>\n",
       "<style scoped>\n",
       "    .dataframe tbody tr th:only-of-type {\n",
       "        vertical-align: middle;\n",
       "    }\n",
       "\n",
       "    .dataframe tbody tr th {\n",
       "        vertical-align: top;\n",
       "    }\n",
       "\n",
       "    .dataframe thead th {\n",
       "        text-align: right;\n",
       "    }\n",
       "</style>\n",
       "<table border=\"1\" class=\"dataframe\">\n",
       "  <thead>\n",
       "    <tr style=\"text-align: right;\">\n",
       "      <th></th>\n",
       "      <th>Sl No</th>\n",
       "      <th>Age</th>\n",
       "      <th>inter canine distance intraoral</th>\n",
       "      <th>intercanine distance casts</th>\n",
       "      <th>right canine width intraoral</th>\n",
       "      <th>right canine width casts</th>\n",
       "      <th>left canine width intraoral</th>\n",
       "      <th>left canine width casts</th>\n",
       "      <th>right canine index intra oral</th>\n",
       "      <th>right canine index casts</th>\n",
       "      <th>left canine index intraoral</th>\n",
       "      <th>left canine index casts</th>\n",
       "    </tr>\n",
       "  </thead>\n",
       "  <tbody>\n",
       "    <tr>\n",
       "      <th>0</th>\n",
       "      <td>1</td>\n",
       "      <td>24</td>\n",
       "      <td>25.06</td>\n",
       "      <td>25.05</td>\n",
       "      <td>6.08</td>\n",
       "      <td>6.08</td>\n",
       "      <td>6.09</td>\n",
       "      <td>6.10</td>\n",
       "      <td>0.242</td>\n",
       "      <td>0.242</td>\n",
       "      <td>0.242</td>\n",
       "      <td>0.241</td>\n",
       "    </tr>\n",
       "    <tr>\n",
       "      <th>1</th>\n",
       "      <td>2</td>\n",
       "      <td>22</td>\n",
       "      <td>25.78</td>\n",
       "      <td>25.79</td>\n",
       "      <td>6.13</td>\n",
       "      <td>6.13</td>\n",
       "      <td>6.33</td>\n",
       "      <td>6.33</td>\n",
       "      <td>0.237</td>\n",
       "      <td>0.237</td>\n",
       "      <td>0.247</td>\n",
       "      <td>0.247</td>\n",
       "    </tr>\n",
       "    <tr>\n",
       "      <th>2</th>\n",
       "      <td>3</td>\n",
       "      <td>23</td>\n",
       "      <td>23.83</td>\n",
       "      <td>23.83</td>\n",
       "      <td>5.91</td>\n",
       "      <td>5.96</td>\n",
       "      <td>6.28</td>\n",
       "      <td>6.28</td>\n",
       "      <td>0.248</td>\n",
       "      <td>0.248</td>\n",
       "      <td>0.264</td>\n",
       "      <td>0.264</td>\n",
       "    </tr>\n",
       "    <tr>\n",
       "      <th>3</th>\n",
       "      <td>4</td>\n",
       "      <td>20</td>\n",
       "      <td>26.12</td>\n",
       "      <td>26.12</td>\n",
       "      <td>6.08</td>\n",
       "      <td>6.08</td>\n",
       "      <td>6.56</td>\n",
       "      <td>6.56</td>\n",
       "      <td>0.232</td>\n",
       "      <td>0.232</td>\n",
       "      <td>0.250</td>\n",
       "      <td>0.250</td>\n",
       "    </tr>\n",
       "    <tr>\n",
       "      <th>4</th>\n",
       "      <td>5</td>\n",
       "      <td>20</td>\n",
       "      <td>26.36</td>\n",
       "      <td>26.41</td>\n",
       "      <td>6.09</td>\n",
       "      <td>6.09</td>\n",
       "      <td>6.50</td>\n",
       "      <td>6.50</td>\n",
       "      <td>0.231</td>\n",
       "      <td>0.231</td>\n",
       "      <td>0.246</td>\n",
       "      <td>0.246</td>\n",
       "    </tr>\n",
       "    <tr>\n",
       "      <th>...</th>\n",
       "      <td>...</td>\n",
       "      <td>...</td>\n",
       "      <td>...</td>\n",
       "      <td>...</td>\n",
       "      <td>...</td>\n",
       "      <td>...</td>\n",
       "      <td>...</td>\n",
       "      <td>...</td>\n",
       "      <td>...</td>\n",
       "      <td>...</td>\n",
       "      <td>...</td>\n",
       "      <td>...</td>\n",
       "    </tr>\n",
       "    <tr>\n",
       "      <th>1095</th>\n",
       "      <td>1096</td>\n",
       "      <td>24</td>\n",
       "      <td>24.29</td>\n",
       "      <td>24.29</td>\n",
       "      <td>6.58</td>\n",
       "      <td>6.58</td>\n",
       "      <td>6.60</td>\n",
       "      <td>6.60</td>\n",
       "      <td>0.271</td>\n",
       "      <td>0.271</td>\n",
       "      <td>0.272</td>\n",
       "      <td>0.272</td>\n",
       "    </tr>\n",
       "    <tr>\n",
       "      <th>1096</th>\n",
       "      <td>1097</td>\n",
       "      <td>22</td>\n",
       "      <td>25.22</td>\n",
       "      <td>25.22</td>\n",
       "      <td>6.70</td>\n",
       "      <td>6.70</td>\n",
       "      <td>6.80</td>\n",
       "      <td>6.80</td>\n",
       "      <td>0.265</td>\n",
       "      <td>0.265</td>\n",
       "      <td>0.269</td>\n",
       "      <td>0.269</td>\n",
       "    </tr>\n",
       "    <tr>\n",
       "      <th>1097</th>\n",
       "      <td>1098</td>\n",
       "      <td>25</td>\n",
       "      <td>24.24</td>\n",
       "      <td>24.24</td>\n",
       "      <td>6.60</td>\n",
       "      <td>6.60</td>\n",
       "      <td>6.61</td>\n",
       "      <td>6.61</td>\n",
       "      <td>0.272</td>\n",
       "      <td>0.272</td>\n",
       "      <td>0.272</td>\n",
       "      <td>0.272</td>\n",
       "    </tr>\n",
       "    <tr>\n",
       "      <th>1098</th>\n",
       "      <td>1099</td>\n",
       "      <td>21</td>\n",
       "      <td>24.87</td>\n",
       "      <td>24.87</td>\n",
       "      <td>6.57</td>\n",
       "      <td>6.57</td>\n",
       "      <td>6.66</td>\n",
       "      <td>6.66</td>\n",
       "      <td>0.264</td>\n",
       "      <td>0.264</td>\n",
       "      <td>0.267</td>\n",
       "      <td>0.267</td>\n",
       "    </tr>\n",
       "    <tr>\n",
       "      <th>1099</th>\n",
       "      <td>1100</td>\n",
       "      <td>23</td>\n",
       "      <td>24.51</td>\n",
       "      <td>24.51</td>\n",
       "      <td>6.36</td>\n",
       "      <td>6.36</td>\n",
       "      <td>6.78</td>\n",
       "      <td>6.78</td>\n",
       "      <td>0.259</td>\n",
       "      <td>0.259</td>\n",
       "      <td>0.276</td>\n",
       "      <td>0.276</td>\n",
       "    </tr>\n",
       "  </tbody>\n",
       "</table>\n",
       "<p>1100 rows × 12 columns</p>\n",
       "</div>"
      ],
      "text/plain": [
       "      Sl No  Age  inter canine distance intraoral  intercanine distance casts  \\\n",
       "0         1   24                            25.06                       25.05   \n",
       "1         2   22                            25.78                       25.79   \n",
       "2         3   23                            23.83                       23.83   \n",
       "3         4   20                            26.12                       26.12   \n",
       "4         5   20                            26.36                       26.41   \n",
       "...     ...  ...                              ...                         ...   \n",
       "1095   1096   24                            24.29                       24.29   \n",
       "1096   1097   22                            25.22                       25.22   \n",
       "1097   1098   25                            24.24                       24.24   \n",
       "1098   1099   21                            24.87                       24.87   \n",
       "1099   1100   23                            24.51                       24.51   \n",
       "\n",
       "      right canine width intraoral  right canine width casts  \\\n",
       "0                             6.08                      6.08   \n",
       "1                             6.13                      6.13   \n",
       "2                             5.91                      5.96   \n",
       "3                             6.08                      6.08   \n",
       "4                             6.09                      6.09   \n",
       "...                            ...                       ...   \n",
       "1095                          6.58                      6.58   \n",
       "1096                          6.70                      6.70   \n",
       "1097                          6.60                      6.60   \n",
       "1098                          6.57                      6.57   \n",
       "1099                          6.36                      6.36   \n",
       "\n",
       "      left canine width intraoral  left canine width casts  \\\n",
       "0                            6.09                     6.10   \n",
       "1                            6.33                     6.33   \n",
       "2                            6.28                     6.28   \n",
       "3                            6.56                     6.56   \n",
       "4                            6.50                     6.50   \n",
       "...                           ...                      ...   \n",
       "1095                         6.60                     6.60   \n",
       "1096                         6.80                     6.80   \n",
       "1097                         6.61                     6.61   \n",
       "1098                         6.66                     6.66   \n",
       "1099                         6.78                     6.78   \n",
       "\n",
       "      right canine index intra oral  right canine index casts  \\\n",
       "0                             0.242                     0.242   \n",
       "1                             0.237                     0.237   \n",
       "2                             0.248                     0.248   \n",
       "3                             0.232                     0.232   \n",
       "4                             0.231                     0.231   \n",
       "...                             ...                       ...   \n",
       "1095                          0.271                     0.271   \n",
       "1096                          0.265                     0.265   \n",
       "1097                          0.272                     0.272   \n",
       "1098                          0.264                     0.264   \n",
       "1099                          0.259                     0.259   \n",
       "\n",
       "      left canine index intraoral  left canine index casts  \n",
       "0                           0.242                    0.241  \n",
       "1                           0.247                    0.247  \n",
       "2                           0.264                    0.264  \n",
       "3                           0.250                    0.250  \n",
       "4                           0.246                    0.246  \n",
       "...                           ...                      ...  \n",
       "1095                        0.272                    0.272  \n",
       "1096                        0.269                    0.269  \n",
       "1097                        0.272                    0.272  \n",
       "1098                        0.267                    0.267  \n",
       "1099                        0.276                    0.276  \n",
       "\n",
       "[1100 rows x 12 columns]"
      ]
     },
     "execution_count": 16,
     "metadata": {},
     "output_type": "execute_result"
    }
   ],
   "source": [
    "X"
   ]
  },
  {
   "cell_type": "code",
   "execution_count": 17,
   "metadata": {
    "colab": {
     "base_uri": "https://localhost:8080/"
    },
    "id": "REeaR6m2o-h8",
    "outputId": "e9fc3d55-7681-44c4-c601-63eac7fc794c"
   },
   "outputs": [
    {
     "data": {
      "text/plain": [
       "0       0\n",
       "1       0\n",
       "2       0\n",
       "3       0\n",
       "4       0\n",
       "       ..\n",
       "1095    1\n",
       "1096    1\n",
       "1097    1\n",
       "1098    1\n",
       "1099    1\n",
       "Name: Gender, Length: 1100, dtype: int64"
      ]
     },
     "execution_count": 17,
     "metadata": {},
     "output_type": "execute_result"
    }
   ],
   "source": [
    "y"
   ]
  },
  {
   "cell_type": "code",
   "execution_count": 18,
   "metadata": {
    "id": "WrzIWf6qo-Rh"
   },
   "outputs": [],
   "source": [
    "#splitting the data into training and testing set\n",
    "from sklearn.model_selection import train_test_split, GridSearchCV\n",
    "X_train, X_val, y_train, y_val = train_test_split(X, y, test_size=0.3)"
   ]
  },
  {
   "cell_type": "code",
   "execution_count": 19,
   "metadata": {
    "colab": {
     "base_uri": "https://localhost:8080/"
    },
    "id": "hSJ1-GiS7uqG",
    "outputId": "31bf7006-68db-4700-b776-66ec7dfc79dc"
   },
   "outputs": [
    {
     "name": "stdout",
     "output_type": "stream",
     "text": [
      "(770, 12)\n",
      "(330, 12)\n",
      "(770,)\n",
      "(330,)\n"
     ]
    }
   ],
   "source": [
    "print(X_train.shape)\n",
    "print(X_val.shape)\n",
    "print(y_train.shape)\n",
    "print(y_val.shape)"
   ]
  },
  {
   "cell_type": "markdown",
   "metadata": {
    "id": "Rv-eaucB8D0z"
   },
   "source": [
    "# **Trying Diffrent Methods to find the best accuracy**"
   ]
  },
  {
   "cell_type": "code",
   "execution_count": 20,
   "metadata": {
    "id": "TFDmHQsN7xZ3"
   },
   "outputs": [],
   "source": [
    "from sklearn.linear_model import LogisticRegression\n",
    "from sklearn.tree import DecisionTreeClassifier\n",
    "from sklearn.metrics import accuracy_score, confusion_matrix\n",
    "from sklearn.ensemble import RandomForestClassifier\n",
    "from sklearn.ensemble import GradientBoostingClassifier\n"
   ]
  },
  {
   "cell_type": "code",
   "execution_count": 21,
   "metadata": {
    "colab": {
     "base_uri": "https://localhost:8080/"
    },
    "id": "kxguOdJc7xPL",
    "outputId": "dd7de32e-805c-47df-f0e5-083000b45ff9"
   },
   "outputs": [
    {
     "name": "stdout",
     "output_type": "stream",
     "text": [
      "Accuracy of Decision Tree is: 99.39%\n"
     ]
    }
   ],
   "source": [
    "#Decision Tree Classifier\n",
    "dtc = DecisionTreeClassifier(random_state=0)\n",
    "dtc.fit(X_train, y_train)\n",
    "y_pred = dtc.predict(X_val)\n",
    "dt_acc=accuracy_score(y_val, y_pred)\n",
    "#print(accuracy_score(y_val, y_pred))\n",
    "print('Accuracy of Decision Tree is: {:.2f}%'.format(dt_acc*100))"
   ]
  },
  {
   "cell_type": "code",
   "execution_count": 22,
   "metadata": {
    "colab": {
     "base_uri": "https://localhost:8080/"
    },
    "id": "UgW6lOXf7xLu",
    "outputId": "e55fe75f-6c8f-4652-9391-c794187497da"
   },
   "outputs": [
    {
     "name": "stdout",
     "output_type": "stream",
     "text": [
      "Accuracy of Random Forest is: 98.48%\n"
     ]
    }
   ],
   "source": [
    "#random forest Classifier\n",
    "rf = RandomForestClassifier(random_state =0)\n",
    "rf.fit(X_train, y_train)\n",
    "rf_pred = rf.predict(X_val)\n",
    "rf_acc = accuracy_score(y_val, rf_pred)\n",
    "print('Accuracy of Random Forest is: {:.2f}%'.format(rf_acc*100))"
   ]
  },
  {
   "cell_type": "code",
   "execution_count": 23,
   "metadata": {
    "colab": {
     "base_uri": "https://localhost:8080/"
    },
    "id": "PLLIlZ7SBGEc",
    "outputId": "452863ca-575e-432b-ca5a-92b2e1328442"
   },
   "outputs": [
    {
     "name": "stdout",
     "output_type": "stream",
     "text": [
      "Accuracy of Logistic Regression is: 89.39%\n"
     ]
    },
    {
     "name": "stderr",
     "output_type": "stream",
     "text": [
      "C:\\Users\\13ama\\anaconda3\\Lib\\site-packages\\sklearn\\linear_model\\_logistic.py:460: ConvergenceWarning: lbfgs failed to converge (status=1):\n",
      "STOP: TOTAL NO. of ITERATIONS REACHED LIMIT.\n",
      "\n",
      "Increase the number of iterations (max_iter) or scale the data as shown in:\n",
      "    https://scikit-learn.org/stable/modules/preprocessing.html\n",
      "Please also refer to the documentation for alternative solver options:\n",
      "    https://scikit-learn.org/stable/modules/linear_model.html#logistic-regression\n",
      "  n_iter_i = _check_optimize_result(\n"
     ]
    }
   ],
   "source": [
    "#logistic regression\n",
    "lr = LogisticRegression(random_state=0)\n",
    "lr.fit(X_train, y_train)\n",
    "lr_pred = lr.predict(X_val)\n",
    "lr_acc = accuracy_score(y_val, lr_pred)\n",
    "print('Accuracy of Logistic Regression is: {:.2f}%'.format(lr_acc*100))\n"
   ]
  },
  {
   "cell_type": "code",
   "execution_count": 24,
   "metadata": {
    "colab": {
     "base_uri": "https://localhost:8080/"
    },
    "id": "mJlHFuD47xJQ",
    "outputId": "7ba1fa42-8da5-4e1f-970d-5912bf80556d"
   },
   "outputs": [
    {
     "name": "stdout",
     "output_type": "stream",
     "text": [
      "Accuracy of Gradient Boosting Classifier is: 99.39%\n"
     ]
    }
   ],
   "source": [
    "#Gradient Boosting Classifier\n",
    "clf = GradientBoostingClassifier(random_state=0)\n",
    "clf.fit(X_train, y_train)\n",
    "clf_pred = clf.predict(X_val)\n",
    "clf_acc = accuracy_score(y_val, clf_pred)\n",
    "print('Accuracy of Gradient Boosting Classifier is: {:.2f}%'.format(clf_acc*100))"
   ]
  },
  {
   "cell_type": "markdown",
   "metadata": {
    "id": "WIh67b7FC19P"
   },
   "source": [
    "# Accuracy of Decision Tree is: 100.00%"
   ]
  },
  {
   "cell_type": "markdown",
   "metadata": {
    "id": "YeS1Om7vC1sW"
   },
   "source": [
    "# Accuracy of Random Forest is: 97.58%"
   ]
  },
  {
   "cell_type": "markdown",
   "metadata": {
    "id": "IUXqIDo2C1ho"
   },
   "source": [
    "# Accuracy of Logistic Regression is: 91.52%"
   ]
  },
  {
   "cell_type": "markdown",
   "metadata": {
    "id": "o5smxzv8C1Ua"
   },
   "source": [
    "# Accuracy of Gradient Boosting Classifier is: 100.00%"
   ]
  }
 ],
 "metadata": {
  "colab": {
   "provenance": []
  },
  "kernelspec": {
   "display_name": "Python 3 (ipykernel)",
   "language": "python",
   "name": "python3"
  },
  "language_info": {
   "codemirror_mode": {
    "name": "ipython",
    "version": 3
   },
   "file_extension": ".py",
   "mimetype": "text/x-python",
   "name": "python",
   "nbconvert_exporter": "python",
   "pygments_lexer": "ipython3",
   "version": "3.11.4"
  }
 },
 "nbformat": 4,
 "nbformat_minor": 1
}
